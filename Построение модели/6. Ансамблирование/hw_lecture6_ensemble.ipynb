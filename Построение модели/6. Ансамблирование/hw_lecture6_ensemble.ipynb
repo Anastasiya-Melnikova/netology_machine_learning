{
 "cells": [
  {
   "cell_type": "markdown",
   "metadata": {},
   "source": [
    "# Домашняя работа\n",
    "1. Теперь решаем задачу регрессии - предскажем цены на недвижимость. Использовать датасет https://www.kaggle.com/c/house-prices-advanced-regression-techniques/data (train.csv)\n",
    "\n",
    "2. Построить случайный лес, вывести важность признаков\n",
    "\n",
    "3. Обучить стекинг как минимум 3х моделей, использовать хотя бы 1 линейную модель и 1 нелинейную\n",
    "\n",
    "4. В качестве решения: Jupyter notebook с кодом, комментариями и графиками"
   ]
  },
  {
   "cell_type": "markdown",
   "metadata": {},
   "source": [
    "## 1. Загрузка и подготовка данных"
   ]
  },
  {
   "cell_type": "code",
   "execution_count": 18,
   "metadata": {},
   "outputs": [],
   "source": [
    "import matplotlib.pyplot as plt\n",
    "import pandas as pd\n",
    "import numpy as np\n",
    "import seaborn as sns\n",
    "from sklearn.metrics import auc, roc_curve, roc_auc_score\n",
    "%matplotlib inline\n",
    "from sklearn.metrics import roc_curve"
   ]
  },
  {
   "cell_type": "code",
   "execution_count": 2,
   "metadata": {},
   "outputs": [
    {
     "data": {
      "text/html": [
       "<div>\n",
       "<style scoped>\n",
       "    .dataframe tbody tr th:only-of-type {\n",
       "        vertical-align: middle;\n",
       "    }\n",
       "\n",
       "    .dataframe tbody tr th {\n",
       "        vertical-align: top;\n",
       "    }\n",
       "\n",
       "    .dataframe thead th {\n",
       "        text-align: right;\n",
       "    }\n",
       "</style>\n",
       "<table border=\"1\" class=\"dataframe\">\n",
       "  <thead>\n",
       "    <tr style=\"text-align: right;\">\n",
       "      <th></th>\n",
       "      <th>Id</th>\n",
       "      <th>MSSubClass</th>\n",
       "      <th>MSZoning</th>\n",
       "      <th>LotFrontage</th>\n",
       "      <th>LotArea</th>\n",
       "      <th>Street</th>\n",
       "      <th>Alley</th>\n",
       "      <th>LotShape</th>\n",
       "      <th>LandContour</th>\n",
       "      <th>Utilities</th>\n",
       "      <th>...</th>\n",
       "      <th>PoolArea</th>\n",
       "      <th>PoolQC</th>\n",
       "      <th>Fence</th>\n",
       "      <th>MiscFeature</th>\n",
       "      <th>MiscVal</th>\n",
       "      <th>MoSold</th>\n",
       "      <th>YrSold</th>\n",
       "      <th>SaleType</th>\n",
       "      <th>SaleCondition</th>\n",
       "      <th>SalePrice</th>\n",
       "    </tr>\n",
       "  </thead>\n",
       "  <tbody>\n",
       "    <tr>\n",
       "      <th>0</th>\n",
       "      <td>1</td>\n",
       "      <td>60</td>\n",
       "      <td>RL</td>\n",
       "      <td>65.0</td>\n",
       "      <td>8450</td>\n",
       "      <td>Pave</td>\n",
       "      <td>NaN</td>\n",
       "      <td>Reg</td>\n",
       "      <td>Lvl</td>\n",
       "      <td>AllPub</td>\n",
       "      <td>...</td>\n",
       "      <td>0</td>\n",
       "      <td>NaN</td>\n",
       "      <td>NaN</td>\n",
       "      <td>NaN</td>\n",
       "      <td>0</td>\n",
       "      <td>2</td>\n",
       "      <td>2008</td>\n",
       "      <td>WD</td>\n",
       "      <td>Normal</td>\n",
       "      <td>208500</td>\n",
       "    </tr>\n",
       "    <tr>\n",
       "      <th>1</th>\n",
       "      <td>2</td>\n",
       "      <td>20</td>\n",
       "      <td>RL</td>\n",
       "      <td>80.0</td>\n",
       "      <td>9600</td>\n",
       "      <td>Pave</td>\n",
       "      <td>NaN</td>\n",
       "      <td>Reg</td>\n",
       "      <td>Lvl</td>\n",
       "      <td>AllPub</td>\n",
       "      <td>...</td>\n",
       "      <td>0</td>\n",
       "      <td>NaN</td>\n",
       "      <td>NaN</td>\n",
       "      <td>NaN</td>\n",
       "      <td>0</td>\n",
       "      <td>5</td>\n",
       "      <td>2007</td>\n",
       "      <td>WD</td>\n",
       "      <td>Normal</td>\n",
       "      <td>181500</td>\n",
       "    </tr>\n",
       "  </tbody>\n",
       "</table>\n",
       "<p>2 rows × 81 columns</p>\n",
       "</div>"
      ],
      "text/plain": [
       "   Id  MSSubClass MSZoning  LotFrontage  LotArea Street Alley LotShape  \\\n",
       "0   1          60       RL         65.0     8450   Pave   NaN      Reg   \n",
       "1   2          20       RL         80.0     9600   Pave   NaN      Reg   \n",
       "\n",
       "  LandContour Utilities  ... PoolArea PoolQC Fence MiscFeature MiscVal MoSold  \\\n",
       "0         Lvl    AllPub  ...        0    NaN   NaN         NaN       0      2   \n",
       "1         Lvl    AllPub  ...        0    NaN   NaN         NaN       0      5   \n",
       "\n",
       "  YrSold  SaleType  SaleCondition  SalePrice  \n",
       "0   2008        WD         Normal     208500  \n",
       "1   2007        WD         Normal     181500  \n",
       "\n",
       "[2 rows x 81 columns]"
      ]
     },
     "execution_count": 2,
     "metadata": {},
     "output_type": "execute_result"
    }
   ],
   "source": [
    "df = pd.read_csv('train.csv')\n",
    "df.head(2)"
   ]
  },
  {
   "cell_type": "code",
   "execution_count": 3,
   "metadata": {},
   "outputs": [
    {
     "name": "stdout",
     "output_type": "stream",
     "text": [
      "<class 'pandas.core.frame.DataFrame'>\n",
      "RangeIndex: 1460 entries, 0 to 1459\n",
      "Data columns (total 81 columns):\n",
      "Id               1460 non-null int64\n",
      "MSSubClass       1460 non-null int64\n",
      "MSZoning         1460 non-null object\n",
      "LotFrontage      1201 non-null float64\n",
      "LotArea          1460 non-null int64\n",
      "Street           1460 non-null object\n",
      "Alley            91 non-null object\n",
      "LotShape         1460 non-null object\n",
      "LandContour      1460 non-null object\n",
      "Utilities        1460 non-null object\n",
      "LotConfig        1460 non-null object\n",
      "LandSlope        1460 non-null object\n",
      "Neighborhood     1460 non-null object\n",
      "Condition1       1460 non-null object\n",
      "Condition2       1460 non-null object\n",
      "BldgType         1460 non-null object\n",
      "HouseStyle       1460 non-null object\n",
      "OverallQual      1460 non-null int64\n",
      "OverallCond      1460 non-null int64\n",
      "YearBuilt        1460 non-null int64\n",
      "YearRemodAdd     1460 non-null int64\n",
      "RoofStyle        1460 non-null object\n",
      "RoofMatl         1460 non-null object\n",
      "Exterior1st      1460 non-null object\n",
      "Exterior2nd      1460 non-null object\n",
      "MasVnrType       1452 non-null object\n",
      "MasVnrArea       1452 non-null float64\n",
      "ExterQual        1460 non-null object\n",
      "ExterCond        1460 non-null object\n",
      "Foundation       1460 non-null object\n",
      "BsmtQual         1423 non-null object\n",
      "BsmtCond         1423 non-null object\n",
      "BsmtExposure     1422 non-null object\n",
      "BsmtFinType1     1423 non-null object\n",
      "BsmtFinSF1       1460 non-null int64\n",
      "BsmtFinType2     1422 non-null object\n",
      "BsmtFinSF2       1460 non-null int64\n",
      "BsmtUnfSF        1460 non-null int64\n",
      "TotalBsmtSF      1460 non-null int64\n",
      "Heating          1460 non-null object\n",
      "HeatingQC        1460 non-null object\n",
      "CentralAir       1460 non-null object\n",
      "Electrical       1459 non-null object\n",
      "1stFlrSF         1460 non-null int64\n",
      "2ndFlrSF         1460 non-null int64\n",
      "LowQualFinSF     1460 non-null int64\n",
      "GrLivArea        1460 non-null int64\n",
      "BsmtFullBath     1460 non-null int64\n",
      "BsmtHalfBath     1460 non-null int64\n",
      "FullBath         1460 non-null int64\n",
      "HalfBath         1460 non-null int64\n",
      "BedroomAbvGr     1460 non-null int64\n",
      "KitchenAbvGr     1460 non-null int64\n",
      "KitchenQual      1460 non-null object\n",
      "TotRmsAbvGrd     1460 non-null int64\n",
      "Functional       1460 non-null object\n",
      "Fireplaces       1460 non-null int64\n",
      "FireplaceQu      770 non-null object\n",
      "GarageType       1379 non-null object\n",
      "GarageYrBlt      1379 non-null float64\n",
      "GarageFinish     1379 non-null object\n",
      "GarageCars       1460 non-null int64\n",
      "GarageArea       1460 non-null int64\n",
      "GarageQual       1379 non-null object\n",
      "GarageCond       1379 non-null object\n",
      "PavedDrive       1460 non-null object\n",
      "WoodDeckSF       1460 non-null int64\n",
      "OpenPorchSF      1460 non-null int64\n",
      "EnclosedPorch    1460 non-null int64\n",
      "3SsnPorch        1460 non-null int64\n",
      "ScreenPorch      1460 non-null int64\n",
      "PoolArea         1460 non-null int64\n",
      "PoolQC           7 non-null object\n",
      "Fence            281 non-null object\n",
      "MiscFeature      54 non-null object\n",
      "MiscVal          1460 non-null int64\n",
      "MoSold           1460 non-null int64\n",
      "YrSold           1460 non-null int64\n",
      "SaleType         1460 non-null object\n",
      "SaleCondition    1460 non-null object\n",
      "SalePrice        1460 non-null int64\n",
      "dtypes: float64(3), int64(35), object(43)\n",
      "memory usage: 924.0+ KB\n"
     ]
    }
   ],
   "source": [
    "df.info()"
   ]
  },
  {
   "cell_type": "code",
   "execution_count": 4,
   "metadata": {},
   "outputs": [
    {
     "name": "stdout",
     "output_type": "stream",
     "text": [
      "MSZoning          5\n",
      "Street            2\n",
      "Alley             2\n",
      "LotShape          4\n",
      "LandContour       4\n",
      "Utilities         2\n",
      "LotConfig         5\n",
      "LandSlope         3\n",
      "Neighborhood     25\n",
      "Condition1        9\n",
      "Condition2        8\n",
      "BldgType          5\n",
      "HouseStyle        8\n",
      "RoofStyle         6\n",
      "RoofMatl          8\n",
      "Exterior1st      15\n",
      "Exterior2nd      16\n",
      "MasVnrType        4\n",
      "ExterQual         4\n",
      "ExterCond         5\n",
      "Foundation        6\n",
      "BsmtQual          4\n",
      "BsmtCond          4\n",
      "BsmtExposure      4\n",
      "BsmtFinType1      6\n",
      "BsmtFinType2      6\n",
      "Heating           6\n",
      "HeatingQC         5\n",
      "CentralAir        2\n",
      "Electrical        5\n",
      "KitchenQual       4\n",
      "Functional        7\n",
      "FireplaceQu       5\n",
      "GarageType        6\n",
      "GarageFinish      3\n",
      "GarageQual        5\n",
      "GarageCond        5\n",
      "PavedDrive        3\n",
      "PoolQC            3\n",
      "Fence             4\n",
      "MiscFeature       4\n",
      "SaleType          9\n",
      "SaleCondition     6\n",
      "dtype: int64\n"
     ]
    }
   ],
   "source": [
    "#Находим категориальные признаки\n",
    "cat_feat = list(df.dtypes[df.dtypes == object].index)\n",
    "\n",
    "#отфильтруем непрерывные признаки\n",
    "num_feat = [f for f in df if f not in (cat_feat + ['Id', 'SalePrice'])]\n",
    "\n",
    "# Смотрим сколько у нас значений по каждому категориальному признаку\n",
    "cat_nunique = df[cat_feat].nunique()\n",
    "print(cat_nunique)"
   ]
  },
  {
   "cell_type": "code",
   "execution_count": 6,
   "metadata": {},
   "outputs": [],
   "source": [
    "# Создаем дамми-переменные для категорий\n",
    "dummy_df = pd.get_dummies(df[cat_feat], columns=cat_feat)\n",
    "\n",
    "# Заменяем пропуски на специальное значение -999, чтобы деревья могли их отличить\n",
    "X = pd.concat([df[num_feat].fillna(-999),\n",
    "                     dummy_df], axis=1)\n",
    "y = df['SalePrice']"
   ]
  },
  {
   "cell_type": "code",
   "execution_count": 7,
   "metadata": {},
   "outputs": [],
   "source": [
    "# разделяем данные на тренировочные и тестовые\n",
    "from sklearn.model_selection import train_test_split\n",
    "X_train, X_test, y_train, y_test = train_test_split(X, y, test_size=0.3)"
   ]
  },
  {
   "cell_type": "code",
   "execution_count": 8,
   "metadata": {},
   "outputs": [],
   "source": [
    "# приводим данные к одному масштабу\n",
    "from sklearn.preprocessing import StandardScaler\n",
    "sc = StandardScaler()\n",
    "X_train = sc.fit_transform(X_train)\n",
    "X_test = sc.transform(X_test)\n",
    "# возвращаем к типу датафрейма\n",
    "X_train = pd.DataFrame(X_train, columns=X.columns)\n",
    "X_test = pd.DataFrame(X_test, columns=X.columns)"
   ]
  },
  {
   "cell_type": "markdown",
   "metadata": {},
   "source": [
    "## 2. Построить случайный лес, вывести важность признаков"
   ]
  },
  {
   "cell_type": "code",
   "execution_count": 12,
   "metadata": {},
   "outputs": [],
   "source": [
    "def show_auc(y, y_pred, plot_label='', prin=True):    \n",
    "    fpr, tpr, _ = roc_curve(y, y_pred)\n",
    "    auc_val = auc(fpr, tpr)\n",
    "    if prin:\n",
    "        print('ROC AUC: {0:.4f}'.format(auc_val))\n",
    "    if plot_label:\n",
    "        plt.plot(fpr, tpr, label=plot_label)\n",
    "        plt.xlabel('FPR')\n",
    "        plt.ylabel('TPR')\n",
    "    return auc_val"
   ]
  },
  {
   "cell_type": "code",
   "execution_count": 16,
   "metadata": {},
   "outputs": [
    {
     "data": {
      "text/plain": [
       "RandomForestRegressor(bootstrap=True, ccp_alpha=0.0, criterion='mse',\n",
       "                      max_depth=5, max_features=0.5, max_leaf_nodes=None,\n",
       "                      max_samples=None, min_impurity_decrease=0.0,\n",
       "                      min_impurity_split=None, min_samples_leaf=20,\n",
       "                      min_samples_split=2, min_weight_fraction_leaf=0.0,\n",
       "                      n_estimators=10, n_jobs=-1, oob_score=False,\n",
       "                      random_state=None, verbose=0, warm_start=False)"
      ]
     },
     "execution_count": 16,
     "metadata": {},
     "output_type": "execute_result"
    }
   ],
   "source": [
    "from sklearn.ensemble import RandomForestRegressor\n",
    "clf_rf = RandomForestRegressor(n_estimators=10, max_depth=5, min_samples_leaf=20, max_features=0.5, n_jobs=-1)\n",
    "clf_rf.fit(X_train, y_train)   "
   ]
  },
  {
   "cell_type": "code",
   "execution_count": 22,
   "metadata": {},
   "outputs": [
    {
     "data": {
      "text/plain": [
       "OverallQual           0.422720\n",
       "GrLivArea             0.123395\n",
       "ExterQual_TA          0.112488\n",
       "GarageCars            0.065120\n",
       "1stFlrSF              0.047173\n",
       "GarageArea            0.035738\n",
       "BsmtQual_Ex           0.035594\n",
       "KitchenQual_Ex        0.033856\n",
       "TotalBsmtSF           0.030906\n",
       "BsmtFinSF1            0.014816\n",
       "FullBath              0.014093\n",
       "YearBuilt             0.010208\n",
       "LotArea               0.009948\n",
       "KitchenQual_Gd        0.006500\n",
       "YearRemodAdd          0.006049\n",
       "2ndFlrSF              0.004203\n",
       "GarageType_Attchd     0.004000\n",
       "KitchenQual_TA        0.003779\n",
       "GarageYrBlt           0.002993\n",
       "LotShape_Reg          0.002470\n",
       "ExterQual_Gd          0.002385\n",
       "RoofStyle_Gable       0.001839\n",
       "BedroomAbvGr          0.001778\n",
       "MSZoning_RL           0.001339\n",
       "TotRmsAbvGrd          0.001155\n",
       "CentralAir_N          0.000941\n",
       "WoodDeckSF            0.000917\n",
       "Foundation_PConc      0.000822\n",
       "Fireplaces            0.000802\n",
       "OpenPorchSF           0.000594\n",
       "                        ...   \n",
       "Heating_GasW          0.000000\n",
       "Heating_GasA          0.000000\n",
       "Heating_Floor         0.000000\n",
       "BsmtFinType2_Unf      0.000000\n",
       "BsmtFinType2_Rec      0.000000\n",
       "BsmtFinType2_LwQ      0.000000\n",
       "BsmtFinType2_GLQ      0.000000\n",
       "BsmtFinType2_BLQ      0.000000\n",
       "BsmtFinType2_ALQ      0.000000\n",
       "BsmtFinType1_Rec      0.000000\n",
       "BsmtFinType1_LwQ      0.000000\n",
       "BsmtFinType1_GLQ      0.000000\n",
       "BsmtFinType1_BLQ      0.000000\n",
       "BsmtExposure_No       0.000000\n",
       "ExterCond_TA          0.000000\n",
       "BsmtExposure_Mn       0.000000\n",
       "BsmtExposure_Gd       0.000000\n",
       "BsmtExposure_Av       0.000000\n",
       "BsmtCond_TA           0.000000\n",
       "BsmtCond_Po           0.000000\n",
       "BsmtCond_Gd           0.000000\n",
       "BsmtCond_Fa           0.000000\n",
       "BsmtQual_TA           0.000000\n",
       "BsmtQual_Gd           0.000000\n",
       "BsmtQual_Fa           0.000000\n",
       "Foundation_Wood       0.000000\n",
       "Foundation_Stone      0.000000\n",
       "Foundation_Slab       0.000000\n",
       "Foundation_BrkTil     0.000000\n",
       "Exterior1st_Stucco    0.000000\n",
       "Length: 288, dtype: float64"
      ]
     },
     "execution_count": 22,
     "metadata": {},
     "output_type": "execute_result"
    }
   ],
   "source": [
    "# определим наиболее важные атрибуты для модели\n",
    "feature_imp = pd.Series(clf_rf.feature_importances_,index=list(X.columns)).sort_values(ascending=False)\n",
    "\n",
    "feature_imp "
   ]
  },
  {
   "cell_type": "code",
   "execution_count": 28,
   "metadata": {},
   "outputs": [],
   "source": [
    "# Оценим качество\n",
    "from sklearn.metrics import mean_squared_error, r2_score"
   ]
  },
  {
   "cell_type": "code",
   "execution_count": 29,
   "metadata": {},
   "outputs": [
    {
     "name": "stdout",
     "output_type": "stream",
     "text": [
      "train data\n",
      "1072962060.7107935\n",
      "0.831225858372021\n",
      "test data\n",
      "1296345455.411964\n",
      "0.7904471459118744\n"
     ]
    }
   ],
   "source": [
    "# среднекравдратичная ошибка и коэффициент детерминации\n",
    "print('train data')\n",
    "print(mean_squared_error(y_train, clf_rf.predict(X_train)))\n",
    "print(r2_score(y_train, clf_rf.predict(X_train)))\n",
    "print('test data')\n",
    "print(mean_squared_error(y_test, clf_rf.predict(X_test)))\n",
    "print(r2_score(y_test, clf_rf.predict(X_test)))"
   ]
  },
  {
   "cell_type": "markdown",
   "metadata": {},
   "source": [
    "## 3. Обучить стекинг как минимум 3х моделей, использовать хотя бы 1 линейную модель и 1 нелинейную"
   ]
  },
  {
   "cell_type": "code",
   "execution_count": 34,
   "metadata": {},
   "outputs": [
    {
     "data": {
      "text/plain": [
       "0"
      ]
     },
     "execution_count": 34,
     "metadata": {},
     "output_type": "execute_result"
    }
   ],
   "source": [
    "sum(X_test.isnull().sum())"
   ]
  },
  {
   "cell_type": "code",
   "execution_count": 23,
   "metadata": {},
   "outputs": [
    {
     "data": {
      "text/plain": [
       "MSSubClass         50.0\n",
       "LotFrontage        69.0\n",
       "LotArea          9478.5\n",
       "OverallQual         6.0\n",
       "OverallCond         5.0\n",
       "YearBuilt        1973.0\n",
       "YearRemodAdd     1994.0\n",
       "MasVnrArea          0.0\n",
       "BsmtFinSF1        383.5\n",
       "BsmtFinSF2          0.0\n",
       "BsmtUnfSF         477.5\n",
       "TotalBsmtSF       991.5\n",
       "1stFlrSF         1087.0\n",
       "2ndFlrSF            0.0\n",
       "LowQualFinSF        0.0\n",
       "GrLivArea        1464.0\n",
       "BsmtFullBath        0.0\n",
       "BsmtHalfBath        0.0\n",
       "FullBath            2.0\n",
       "HalfBath            0.0\n",
       "BedroomAbvGr        3.0\n",
       "KitchenAbvGr        1.0\n",
       "TotRmsAbvGrd        6.0\n",
       "Fireplaces          1.0\n",
       "GarageYrBlt      1980.0\n",
       "GarageCars          2.0\n",
       "GarageArea        480.0\n",
       "WoodDeckSF          0.0\n",
       "OpenPorchSF        25.0\n",
       "EnclosedPorch       0.0\n",
       "3SsnPorch           0.0\n",
       "ScreenPorch         0.0\n",
       "PoolArea            0.0\n",
       "MiscVal             0.0\n",
       "MoSold              6.0\n",
       "YrSold           2008.0\n",
       "dtype: float64"
      ]
     },
     "execution_count": 23,
     "metadata": {},
     "output_type": "execute_result"
    }
   ],
   "source": [
    "train_median = df[num_feat].median()\n",
    "\n",
    "X_train = pd.concat([d_train[num_feat].fillna(train_median),\n",
    "                     d_train[num_feat + cat_feat].isnull().astype(np.int8).add_suffix('_NaN'),\n",
    "                     dummy_train], axis=1)\n",
    "\n",
    "X_test = pd.concat([d_test[num_feat].fillna(train_median),\n",
    "                     d_test[num_feat + cat_feat].isnull().astype(np.int8).add_suffix('_NaN'),\n",
    "                     dummy_test], axis=1)\n",
    "\n",
    "scaler = StandardScaler()\n",
    "scaler.fit(X_train[num_feat])\n",
    "\n",
    "X_train[num_feat] = scaler.transform(X_train[num_feat])\n",
    "X_test[num_feat] = scaler.transform(X_test[num_feat])"
   ]
  },
  {
   "cell_type": "code",
   "execution_count": 57,
   "metadata": {},
   "outputs": [],
   "source": [
    "from sklearn.ensemble import StackingRegressor\n",
    "from sklearn.linear_model import LinearRegression\n",
    "from sklearn.kernel_ridge import KernelRidge\n",
    "from sklearn.tree import DecisionTreeRegressor\n",
    "from sklearn.svm import SVR"
   ]
  },
  {
   "cell_type": "code",
   "execution_count": 65,
   "metadata": {},
   "outputs": [],
   "source": [
    "regressor = StackingRegressor(\n",
    "    [\n",
    "        ('lr', KernelRidge()),\n",
    "        ('dt', DecisionTreeRegressor(max_depth=5, min_samples_leaf=20, max_features=0.5)),\n",
    "        ('svr', SVR())\n",
    "    ],\n",
    "LinearRegression())"
   ]
  },
  {
   "cell_type": "code",
   "execution_count": 66,
   "metadata": {},
   "outputs": [
    {
     "data": {
      "text/plain": [
       "StackingRegressor(cv=None,\n",
       "                  estimators=[('lr',\n",
       "                               KernelRidge(alpha=1, coef0=1, degree=3,\n",
       "                                           gamma=None, kernel='linear',\n",
       "                                           kernel_params=None)),\n",
       "                              ('dt',\n",
       "                               DecisionTreeRegressor(ccp_alpha=0.0,\n",
       "                                                     criterion='mse',\n",
       "                                                     max_depth=5,\n",
       "                                                     max_features=0.5,\n",
       "                                                     max_leaf_nodes=None,\n",
       "                                                     min_impurity_decrease=0.0,\n",
       "                                                     min_impurity_split=None,\n",
       "                                                     min_samples_leaf=20,\n",
       "                                                     min_samples_split=2,\n",
       "                                                     min_weight_fraction_leaf=0.0,\n",
       "                                                     presort='deprecated',\n",
       "                                                     random_state=None,\n",
       "                                                     splitter='best')),\n",
       "                              ('svr',\n",
       "                               SVR(C=1.0, cache_size=200, coef0=0.0, degree=3,\n",
       "                                   epsilon=0.1, gamma='scale', kernel='rbf',\n",
       "                                   max_iter=-1, shrinking=True, tol=0.001,\n",
       "                                   verbose=False))],\n",
       "                  final_estimator=LinearRegression(copy_X=True,\n",
       "                                                   fit_intercept=True,\n",
       "                                                   n_jobs=None,\n",
       "                                                   normalize=False),\n",
       "                  n_jobs=None, passthrough=False, verbose=0)"
      ]
     },
     "execution_count": 66,
     "metadata": {},
     "output_type": "execute_result"
    }
   ],
   "source": [
    "regressor.fit(X_train, y_train)"
   ]
  },
  {
   "cell_type": "code",
   "execution_count": 69,
   "metadata": {},
   "outputs": [
    {
     "name": "stdout",
     "output_type": "stream",
     "text": [
      "KernelRidge\n",
      "34001421560.027485\n",
      "-4.496293369341906\n",
      "DecisionTreeRegressor\n",
      "1821442812.030043\n",
      "0.7055657207531146\n",
      "svr\n",
      "6677471619.693638\n",
      "-0.07940613372581695\n",
      "StackingRegressor\n",
      "1812741321.2480052\n",
      "0.706972307416095\n"
     ]
    }
   ],
   "source": [
    "# среднекравдратичная ошибка и коэффициент детерминации\n",
    "print('KernelRidge')\n",
    "print(mean_squared_error(y_test, regressor.named_estimators_['lr'].predict(X_test)))\n",
    "print(r2_score(y_test, regressor.named_estimators_['lr'].predict(X_test)))\n",
    "print('DecisionTreeRegressor')\n",
    "print(mean_squared_error(y_test, regressor.named_estimators_['dt'].predict(X_test)))\n",
    "print(r2_score(y_test, regressor.named_estimators_['dt'].predict(X_test)))\n",
    "print('svr')\n",
    "print(mean_squared_error(y_test, regressor.named_estimators_['svr'].predict(X_test)))\n",
    "print(r2_score(y_test, regressor.named_estimators_['svr'].predict(X_test)))\n",
    "print('StackingRegressor')\n",
    "print(mean_squared_error(y_test, regressor.predict(X_test)))\n",
    "print(r2_score(y_test, regressor.predict(X_test)))"
   ]
  },
  {
   "cell_type": "code",
   "execution_count": 68,
   "metadata": {},
   "outputs": [
    {
     "data": {
      "text/plain": [
       "<matplotlib.axes._subplots.AxesSubplot at 0x226763f36d8>"
      ]
     },
     "execution_count": 68,
     "metadata": {},
     "output_type": "execute_result"
    },
    {
     "data": {
      "image/png": "[encoded data removed]",
      "text/plain": [
       "<Figure size 432x288 with 1 Axes>"
      ]
     },
     "metadata": {
      "needs_background": "light"
     },
     "output_type": "display_data"
    }
   ],
   "source": [
    "pd.Series(classifier.final_estimator_.coef_.flatten(), index=classifier.named_estimators_.keys()).plot(kind='barh')"
   ]
  },
  {
   "cell_type": "markdown",
   "metadata": {},
   "source": [
    "У стекинга с таким набором моделей результат получился значительно хуже, чем у \"случайных лесов\""
   ]
  },
  {
   "cell_type": "code",
   "execution_count": null,
   "metadata": {},
   "outputs": [],
   "source": []
  }
 ],
 "metadata": {
  "kernelspec": {
   "display_name": "Python 3",
   "language": "python",
   "name": "python3"
  },
  "language_info": {
   "codemirror_mode": {
    "name": "ipython",
    "version": 3
   },
   "file_extension": ".py",
   "mimetype": "text/x-python",
   "name": "python",
   "nbconvert_exporter": "python",
   "pygments_lexer": "ipython3",
   "version": "3.7.3"
  }
 },
 "nbformat": 4,
 "nbformat_minor": 2
}
