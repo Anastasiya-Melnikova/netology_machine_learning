{
 "cells": [
  {
   "cell_type": "markdown",
   "metadata": {},
   "source": [
    "# Промежуточный проект по модулю \"Построение модели\""
   ]
  },
  {
   "cell_type": "markdown",
   "metadata": {},
   "source": [
    "## Бизнес-анализ"
   ]
  },
  {
   "cell_type": "markdown",
   "metadata": {},
   "source": [
    "Мы владеем сетью магазинов, в которых продаются различные товары. \n",
    "Наши сотрудники собрали датасет из 8523 продаж товаров в различных магазинах нашей сети. \n",
    "Наша задача построить модель, предсказывающую продажи каждого продукта в конкретном магазине. \n",
    "Используя эту модель, попробовать выявить факторы, больше всего влияющие на увеличение продаж. "
   ]
  },
  {
   "cell_type": "markdown",
   "metadata": {},
   "source": [
    "## Анализ данных"
   ]
  },
  {
   "cell_type": "code",
   "execution_count": 1,
   "metadata": {},
   "outputs": [],
   "source": [
    "# подключение библиотек\n",
    "import pandas as pd\n",
    "import matplotlib.pyplot as plt\n",
    "%matplotlib inline\n",
    "import seaborn as sns\n",
    "import numpy as np\n",
    "from sklearn.preprocessing import StandardScaler\n",
    "from sklearn.model_selection import train_test_split\n",
    "from sklearn.impute import KNNImputer\n",
    "from sklearn.preprocessing import LabelEncoder"
   ]
  },
  {
   "cell_type": "markdown",
   "metadata": {},
   "source": [
    "### Загрузка и оценка качества данных"
   ]
  },
  {
   "cell_type": "code",
   "execution_count": 2,
   "metadata": {},
   "outputs": [
    {
     "data": {
      "text/html": [
       "<div>\n",
       "<style scoped>\n",
       "    .dataframe tbody tr th:only-of-type {\n",
       "        vertical-align: middle;\n",
       "    }\n",
       "\n",
       "    .dataframe tbody tr th {\n",
       "        vertical-align: top;\n",
       "    }\n",
       "\n",
       "    .dataframe thead th {\n",
       "        text-align: right;\n",
       "    }\n",
       "</style>\n",
       "<table border=\"1\" class=\"dataframe\">\n",
       "  <thead>\n",
       "    <tr style=\"text-align: right;\">\n",
       "      <th></th>\n",
       "      <th>Item_Identifier</th>\n",
       "      <th>Item_Weight</th>\n",
       "      <th>Item_Fat_Content</th>\n",
       "      <th>Item_Visibility</th>\n",
       "      <th>Item_Type</th>\n",
       "      <th>Item_MRP</th>\n",
       "      <th>Outlet_Identifier</th>\n",
       "      <th>Outlet_Establishment_Year</th>\n",
       "      <th>Outlet_Size</th>\n",
       "      <th>Outlet_Location_Type</th>\n",
       "      <th>Outlet_Type</th>\n",
       "      <th>Item_Outlet_Sales</th>\n",
       "    </tr>\n",
       "  </thead>\n",
       "  <tbody>\n",
       "    <tr>\n",
       "      <th>0</th>\n",
       "      <td>FDA15</td>\n",
       "      <td>9.30</td>\n",
       "      <td>Low Fat</td>\n",
       "      <td>0.016047</td>\n",
       "      <td>Dairy</td>\n",
       "      <td>249.8092</td>\n",
       "      <td>OUT049</td>\n",
       "      <td>1999</td>\n",
       "      <td>Medium</td>\n",
       "      <td>Tier 1</td>\n",
       "      <td>Supermarket Type1</td>\n",
       "      <td>3735.1380</td>\n",
       "    </tr>\n",
       "    <tr>\n",
       "      <th>1</th>\n",
       "      <td>DRC01</td>\n",
       "      <td>5.92</td>\n",
       "      <td>Regular</td>\n",
       "      <td>0.019278</td>\n",
       "      <td>Soft Drinks</td>\n",
       "      <td>48.2692</td>\n",
       "      <td>OUT018</td>\n",
       "      <td>2009</td>\n",
       "      <td>Medium</td>\n",
       "      <td>Tier 3</td>\n",
       "      <td>Supermarket Type2</td>\n",
       "      <td>443.4228</td>\n",
       "    </tr>\n",
       "    <tr>\n",
       "      <th>2</th>\n",
       "      <td>FDN15</td>\n",
       "      <td>17.50</td>\n",
       "      <td>Low Fat</td>\n",
       "      <td>0.016760</td>\n",
       "      <td>Meat</td>\n",
       "      <td>141.6180</td>\n",
       "      <td>OUT049</td>\n",
       "      <td>1999</td>\n",
       "      <td>Medium</td>\n",
       "      <td>Tier 1</td>\n",
       "      <td>Supermarket Type1</td>\n",
       "      <td>2097.2700</td>\n",
       "    </tr>\n",
       "    <tr>\n",
       "      <th>3</th>\n",
       "      <td>FDX07</td>\n",
       "      <td>19.20</td>\n",
       "      <td>Regular</td>\n",
       "      <td>0.000000</td>\n",
       "      <td>Fruits and Vegetables</td>\n",
       "      <td>182.0950</td>\n",
       "      <td>OUT010</td>\n",
       "      <td>1998</td>\n",
       "      <td>NaN</td>\n",
       "      <td>Tier 3</td>\n",
       "      <td>Grocery Store</td>\n",
       "      <td>732.3800</td>\n",
       "    </tr>\n",
       "    <tr>\n",
       "      <th>4</th>\n",
       "      <td>NCD19</td>\n",
       "      <td>8.93</td>\n",
       "      <td>Low Fat</td>\n",
       "      <td>0.000000</td>\n",
       "      <td>Household</td>\n",
       "      <td>53.8614</td>\n",
       "      <td>OUT013</td>\n",
       "      <td>1987</td>\n",
       "      <td>High</td>\n",
       "      <td>Tier 3</td>\n",
       "      <td>Supermarket Type1</td>\n",
       "      <td>994.7052</td>\n",
       "    </tr>\n",
       "  </tbody>\n",
       "</table>\n",
       "</div>"
      ],
      "text/plain": [
       "  Item_Identifier  Item_Weight Item_Fat_Content  Item_Visibility  \\\n",
       "0           FDA15         9.30          Low Fat         0.016047   \n",
       "1           DRC01         5.92          Regular         0.019278   \n",
       "2           FDN15        17.50          Low Fat         0.016760   \n",
       "3           FDX07        19.20          Regular         0.000000   \n",
       "4           NCD19         8.93          Low Fat         0.000000   \n",
       "\n",
       "               Item_Type  Item_MRP Outlet_Identifier  \\\n",
       "0                  Dairy  249.8092            OUT049   \n",
       "1            Soft Drinks   48.2692            OUT018   \n",
       "2                   Meat  141.6180            OUT049   \n",
       "3  Fruits and Vegetables  182.0950            OUT010   \n",
       "4              Household   53.8614            OUT013   \n",
       "\n",
       "   Outlet_Establishment_Year Outlet_Size Outlet_Location_Type  \\\n",
       "0                       1999      Medium               Tier 1   \n",
       "1                       2009      Medium               Tier 3   \n",
       "2                       1999      Medium               Tier 1   \n",
       "3                       1998         NaN               Tier 3   \n",
       "4                       1987        High               Tier 3   \n",
       "\n",
       "         Outlet_Type  Item_Outlet_Sales  \n",
       "0  Supermarket Type1          3735.1380  \n",
       "1  Supermarket Type2           443.4228  \n",
       "2  Supermarket Type1          2097.2700  \n",
       "3      Grocery Store           732.3800  \n",
       "4  Supermarket Type1           994.7052  "
      ]
     },
     "execution_count": 2,
     "metadata": {},
     "output_type": "execute_result"
    }
   ],
   "source": [
    "# загрузка данных\n",
    "df = pd.read_csv('data.csv')\n",
    "df.head()"
   ]
  },
  {
   "cell_type": "markdown",
   "metadata": {},
   "source": [
    "Описание датасета:\n",
    "\n",
    "Item_Identifier -\tId продукта\n",
    "\n",
    "Item_Weight -\tВес продукта\n",
    "\n",
    "Item_Fat_Content -\tСодержание жира в продукте\n",
    "\n",
    "Item_Visibility -\t%полок, отведенный под наш продукт в конкретном магазине\n",
    "\n",
    "Item_Type -\tКатегория продукта\n",
    "\n",
    "Item_MRP -\tМаксимальная цена продажи продукта\n",
    "\n",
    "Outlet_Identifier -\tИдентификатор магазина\n",
    "\n",
    "Outlet_Establishment_Year -\tГод открытия магазина\n",
    "\n",
    "Outlet_Size -\tПлощадь магазина\n",
    "\n",
    "Outlet_Location_Type -\tТип города, в котором расположен магазин\n",
    "\n",
    "Outlet_Type -\tПризнак является ли магазин продуктовым или супермаркетом\n",
    "\n",
    "Item_Outlet_Sales -\tПродажи продукта в конкретном магазине. Именно ее и надо предсказывать"
   ]
  },
  {
   "cell_type": "code",
   "execution_count": 4,
   "metadata": {
    "scrolled": true
   },
   "outputs": [
    {
     "name": "stdout",
     "output_type": "stream",
     "text": [
      "<class 'pandas.core.frame.DataFrame'>\n",
      "RangeIndex: 8523 entries, 0 to 8522\n",
      "Data columns (total 12 columns):\n",
      "Item_Identifier              8523 non-null object\n",
      "Item_Weight                  7060 non-null float64\n",
      "Item_Fat_Content             8523 non-null object\n",
      "Item_Visibility              8523 non-null float64\n",
      "Item_Type                    8523 non-null object\n",
      "Item_MRP                     8523 non-null float64\n",
      "Outlet_Identifier            8523 non-null object\n",
      "Outlet_Establishment_Year    8523 non-null int64\n",
      "Outlet_Size                  6113 non-null object\n",
      "Outlet_Location_Type         8523 non-null object\n",
      "Outlet_Type                  8523 non-null object\n",
      "Item_Outlet_Sales            8523 non-null float64\n",
      "dtypes: float64(4), int64(1), object(7)\n",
      "memory usage: 799.1+ KB\n"
     ]
    }
   ],
   "source": [
    "# общая информация\n",
    "df.info()"
   ]
  },
  {
   "cell_type": "markdown",
   "metadata": {},
   "source": [
    "Видим два признака с пропущенными значениями; половина признаков - категориальные. Пропуски необходимо заполнить и привести переменные к числовому формату."
   ]
  },
  {
   "cell_type": "markdown",
   "metadata": {},
   "source": [
    "### Изучение корреляционных связей и выбросов"
   ]
  },
  {
   "cell_type": "markdown",
   "metadata": {},
   "source": [
    "Чтобы оценить тесноту корреляционных связей и посторить диаграмму распределения, оценить выбросы в данных создадим копию датасета, признаки преобразуем в числовые пока с помощью LabelEncoder"
   ]
  },
  {
   "cell_type": "code",
   "execution_count": 9,
   "metadata": {},
   "outputs": [],
   "source": [
    "df_copy = df.copy()\n",
    "le_copy = LabelEncoder()\n",
    "df_copy['Item_Identifier'] = le_copy.fit_transform(df_copy['Item_Identifier'])\n",
    "df_copy['Item_Fat_Content'] = le_copy.fit_transform(df_copy['Item_Fat_Content'])\n",
    "df_copy['Item_Type'] = le_copy.fit_transform(df_copy['Item_Type'])\n",
    "df_copy['Outlet_Size'] = df_copy['Outlet_Size'].fillna('Medium')\n",
    "df_copy['Outlet_Size'] = le_copy.fit_transform(df_copy['Outlet_Size'])\n",
    "df_copy['Outlet_Identifier'] = le_copy.fit_transform(df_copy['Outlet_Identifier'])\n",
    "df_copy['Outlet_Location_Type'] = le_copy.fit_transform(df_copy['Outlet_Location_Type'])\n",
    "df_copy['Outlet_Type'] = le_copy.fit_transform(df_copy['Outlet_Type'])"
   ]
  },
  {
   "cell_type": "code",
   "execution_count": 6,
   "metadata": {},
   "outputs": [
    {
     "data": {
      "image/png": "[encoded data removed]",
      "text/plain": [
       "<Figure size 1080x1080 with 2 Axes>"
      ]
     },
     "metadata": {
      "needs_background": "light"
     },
     "output_type": "display_data"
    }
   ],
   "source": [
    "# строим матрицу корреляций\n",
    "sns.heatmap(df_copy.corr(),annot=True,cmap='RdYlGn',linewidths=0.2)\n",
    "fig=plt.gcf()\n",
    "fig.set_size_inches(15,15)\n",
    "plt.show()"
   ]
  },
  {
   "cell_type": "markdown",
   "metadata": {},
   "source": [
    "Как видно, очень тесных линейных взаимосвязей как между самими признаками, так и между признаками и целевой переменной нет. Скорее всего, линейная модель прогнозирования продаж товаров будет не слишком точна."
   ]
  },
  {
   "cell_type": "code",
   "execution_count": 16,
   "metadata": {},
   "outputs": [
    {
     "data": {
      "text/plain": [
       "<matplotlib.axes._subplots.AxesSubplot at 0x1f1a0afa3c8>"
      ]
     },
     "execution_count": 16,
     "metadata": {},
     "output_type": "execute_result"
    },
    {
     "data": {
      "image/png": "[encoded data removed]",
      "text/plain": [
       "<Figure size 432x288 with 1 Axes>"
      ]
     },
     "metadata": {
      "needs_background": "light"
     },
     "output_type": "display_data"
    }
   ],
   "source": [
    "# визуализируем несколько линейных отношений с наибольшими коэффициентами корреляции\n",
    "# продажи и тип магазина\n",
    "sns.regplot(x=df_copy.Outlet_Type, y=df_copy.Item_Outlet_Sales, fit_reg=True)"
   ]
  },
  {
   "cell_type": "code",
   "execution_count": 15,
   "metadata": {},
   "outputs": [
    {
     "data": {
      "text/plain": [
       "<matplotlib.axes._subplots.AxesSubplot at 0x1f1a005d898>"
      ]
     },
     "execution_count": 15,
     "metadata": {},
     "output_type": "execute_result"
    },
    {
     "data": {
      "image/png": "[encoded data removed]",
      "text/plain": [
       "<Figure size 432x288 with 1 Axes>"
      ]
     },
     "metadata": {
      "needs_background": "light"
     },
     "output_type": "display_data"
    }
   ],
   "source": [
    "# продажи и максимальная цена продукта\n",
    "sns.regplot(x=df_copy.Item_MRP, y=df_copy.Item_Outlet_Sales, fit_reg=True)"
   ]
  },
  {
   "cell_type": "markdown",
   "metadata": {},
   "source": [
    "Слабые линейные взаимосвязи, при обучении предпочтение будем отдавать нелинейным моделям."
   ]
  },
  {
   "cell_type": "code",
   "execution_count": 10,
   "metadata": {},
   "outputs": [
    {
     "data": {
      "text/html": [
       "<div>\n",
       "<style scoped>\n",
       "    .dataframe tbody tr th:only-of-type {\n",
       "        vertical-align: middle;\n",
       "    }\n",
       "\n",
       "    .dataframe tbody tr th {\n",
       "        vertical-align: top;\n",
       "    }\n",
       "\n",
       "    .dataframe thead th {\n",
       "        text-align: right;\n",
       "    }\n",
       "</style>\n",
       "<table border=\"1\" class=\"dataframe\">\n",
       "  <thead>\n",
       "    <tr style=\"text-align: right;\">\n",
       "      <th></th>\n",
       "      <th>Item_Identifier</th>\n",
       "      <th>Item_Weight</th>\n",
       "      <th>Item_Fat_Content</th>\n",
       "      <th>Item_Visibility</th>\n",
       "      <th>Item_Type</th>\n",
       "      <th>Item_MRP</th>\n",
       "      <th>Outlet_Identifier</th>\n",
       "      <th>Outlet_Establishment_Year</th>\n",
       "      <th>Outlet_Size</th>\n",
       "      <th>Outlet_Location_Type</th>\n",
       "      <th>Outlet_Type</th>\n",
       "      <th>Item_Outlet_Sales</th>\n",
       "    </tr>\n",
       "  </thead>\n",
       "  <tbody>\n",
       "    <tr>\n",
       "      <th>count</th>\n",
       "      <td>8523.000000</td>\n",
       "      <td>7060.000000</td>\n",
       "      <td>8523.000000</td>\n",
       "      <td>8523.000000</td>\n",
       "      <td>8523.000000</td>\n",
       "      <td>8523.000000</td>\n",
       "      <td>8523.000000</td>\n",
       "      <td>8523.000000</td>\n",
       "      <td>8523.000000</td>\n",
       "      <td>8523.000000</td>\n",
       "      <td>8523.000000</td>\n",
       "      <td>8523.000000</td>\n",
       "    </tr>\n",
       "    <tr>\n",
       "      <th>mean</th>\n",
       "      <td>779.714889</td>\n",
       "      <td>12.857645</td>\n",
       "      <td>1.369354</td>\n",
       "      <td>0.066132</td>\n",
       "      <td>7.226681</td>\n",
       "      <td>140.992782</td>\n",
       "      <td>4.722281</td>\n",
       "      <td>1997.831867</td>\n",
       "      <td>1.170832</td>\n",
       "      <td>1.112871</td>\n",
       "      <td>1.201220</td>\n",
       "      <td>2181.288914</td>\n",
       "    </tr>\n",
       "    <tr>\n",
       "      <th>std</th>\n",
       "      <td>449.222377</td>\n",
       "      <td>4.643456</td>\n",
       "      <td>0.644810</td>\n",
       "      <td>0.051598</td>\n",
       "      <td>4.209990</td>\n",
       "      <td>62.275067</td>\n",
       "      <td>2.837201</td>\n",
       "      <td>8.371760</td>\n",
       "      <td>0.600327</td>\n",
       "      <td>0.812757</td>\n",
       "      <td>0.796459</td>\n",
       "      <td>1706.499616</td>\n",
       "    </tr>\n",
       "    <tr>\n",
       "      <th>min</th>\n",
       "      <td>0.000000</td>\n",
       "      <td>4.555000</td>\n",
       "      <td>0.000000</td>\n",
       "      <td>0.000000</td>\n",
       "      <td>0.000000</td>\n",
       "      <td>31.290000</td>\n",
       "      <td>0.000000</td>\n",
       "      <td>1985.000000</td>\n",
       "      <td>0.000000</td>\n",
       "      <td>0.000000</td>\n",
       "      <td>0.000000</td>\n",
       "      <td>33.290000</td>\n",
       "    </tr>\n",
       "    <tr>\n",
       "      <th>25%</th>\n",
       "      <td>395.500000</td>\n",
       "      <td>8.773750</td>\n",
       "      <td>1.000000</td>\n",
       "      <td>0.026989</td>\n",
       "      <td>4.000000</td>\n",
       "      <td>93.826500</td>\n",
       "      <td>2.000000</td>\n",
       "      <td>1987.000000</td>\n",
       "      <td>1.000000</td>\n",
       "      <td>0.000000</td>\n",
       "      <td>1.000000</td>\n",
       "      <td>834.247400</td>\n",
       "    </tr>\n",
       "    <tr>\n",
       "      <th>50%</th>\n",
       "      <td>783.000000</td>\n",
       "      <td>12.600000</td>\n",
       "      <td>1.000000</td>\n",
       "      <td>0.053931</td>\n",
       "      <td>6.000000</td>\n",
       "      <td>143.012800</td>\n",
       "      <td>5.000000</td>\n",
       "      <td>1999.000000</td>\n",
       "      <td>1.000000</td>\n",
       "      <td>1.000000</td>\n",
       "      <td>1.000000</td>\n",
       "      <td>1794.331000</td>\n",
       "    </tr>\n",
       "    <tr>\n",
       "      <th>75%</th>\n",
       "      <td>1167.000000</td>\n",
       "      <td>16.850000</td>\n",
       "      <td>2.000000</td>\n",
       "      <td>0.094585</td>\n",
       "      <td>10.000000</td>\n",
       "      <td>185.643700</td>\n",
       "      <td>7.000000</td>\n",
       "      <td>2004.000000</td>\n",
       "      <td>2.000000</td>\n",
       "      <td>2.000000</td>\n",
       "      <td>1.000000</td>\n",
       "      <td>3101.296400</td>\n",
       "    </tr>\n",
       "    <tr>\n",
       "      <th>max</th>\n",
       "      <td>1558.000000</td>\n",
       "      <td>21.350000</td>\n",
       "      <td>4.000000</td>\n",
       "      <td>0.328391</td>\n",
       "      <td>15.000000</td>\n",
       "      <td>266.888400</td>\n",
       "      <td>9.000000</td>\n",
       "      <td>2009.000000</td>\n",
       "      <td>2.000000</td>\n",
       "      <td>2.000000</td>\n",
       "      <td>3.000000</td>\n",
       "      <td>13086.964800</td>\n",
       "    </tr>\n",
       "  </tbody>\n",
       "</table>\n",
       "</div>"
      ],
      "text/plain": [
       "       Item_Identifier  Item_Weight  Item_Fat_Content  Item_Visibility  \\\n",
       "count      8523.000000  7060.000000       8523.000000      8523.000000   \n",
       "mean        779.714889    12.857645          1.369354         0.066132   \n",
       "std         449.222377     4.643456          0.644810         0.051598   \n",
       "min           0.000000     4.555000          0.000000         0.000000   \n",
       "25%         395.500000     8.773750          1.000000         0.026989   \n",
       "50%         783.000000    12.600000          1.000000         0.053931   \n",
       "75%        1167.000000    16.850000          2.000000         0.094585   \n",
       "max        1558.000000    21.350000          4.000000         0.328391   \n",
       "\n",
       "         Item_Type     Item_MRP  Outlet_Identifier  Outlet_Establishment_Year  \\\n",
       "count  8523.000000  8523.000000        8523.000000                8523.000000   \n",
       "mean      7.226681   140.992782           4.722281                1997.831867   \n",
       "std       4.209990    62.275067           2.837201                   8.371760   \n",
       "min       0.000000    31.290000           0.000000                1985.000000   \n",
       "25%       4.000000    93.826500           2.000000                1987.000000   \n",
       "50%       6.000000   143.012800           5.000000                1999.000000   \n",
       "75%      10.000000   185.643700           7.000000                2004.000000   \n",
       "max      15.000000   266.888400           9.000000                2009.000000   \n",
       "\n",
       "       Outlet_Size  Outlet_Location_Type  Outlet_Type  Item_Outlet_Sales  \n",
       "count  8523.000000           8523.000000  8523.000000        8523.000000  \n",
       "mean      1.170832              1.112871     1.201220        2181.288914  \n",
       "std       0.600327              0.812757     0.796459        1706.499616  \n",
       "min       0.000000              0.000000     0.000000          33.290000  \n",
       "25%       1.000000              0.000000     1.000000         834.247400  \n",
       "50%       1.000000              1.000000     1.000000        1794.331000  \n",
       "75%       2.000000              2.000000     1.000000        3101.296400  \n",
       "max       2.000000              2.000000     3.000000       13086.964800  "
      ]
     },
     "execution_count": 10,
     "metadata": {},
     "output_type": "execute_result"
    }
   ],
   "source": [
    "# основные статистические показатели\n",
    "df_copy.describe()"
   ]
  },
  {
   "cell_type": "code",
   "execution_count": 7,
   "metadata": {},
   "outputs": [
    {
     "data": {
      "text/plain": [
       "<matplotlib.axes._subplots.AxesSubplot at 0x1f19ea9e668>"
      ]
     },
     "execution_count": 7,
     "metadata": {},
     "output_type": "execute_result"
    },
    {
     "data": {
      "image/png": "[encoded data removed]",
      "text/plain": [
       "<Figure size 720x720 with 1 Axes>"
      ]
     },
     "metadata": {
      "needs_background": "light"
     },
     "output_type": "display_data"
    }
   ],
   "source": [
    "# масштабируем признаки и выводим диаграммы распределения\n",
    "sc = StandardScaler()\n",
    "df_copy = sc.fit_transform(df_copy)\n",
    "df_copy = pd.DataFrame(df_copy, columns=df.columns)\n",
    "\n",
    "df_copy.boxplot(rot=90, figsize=(10,10))"
   ]
  },
  {
   "cell_type": "markdown",
   "metadata": {},
   "source": [
    "Видим выброс в жирности продукта, признак категориальный, смотрим на значения."
   ]
  },
  {
   "cell_type": "code",
   "execution_count": 3,
   "metadata": {},
   "outputs": [
    {
     "data": {
      "text/plain": [
       "array(['Low Fat', 'Regular', 'low fat', 'LF', 'reg'], dtype=object)"
      ]
     },
     "execution_count": 3,
     "metadata": {},
     "output_type": "execute_result"
    }
   ],
   "source": [
    "df.Item_Fat_Content.unique()"
   ]
  },
  {
   "cell_type": "markdown",
   "metadata": {},
   "source": [
    "Значения по-разному записаны, но по сути их два. Приведем значения к единому формату записи."
   ]
  },
  {
   "cell_type": "code",
   "execution_count": 4,
   "metadata": {},
   "outputs": [],
   "source": [
    "fat = {'low fat': 'Low Fat', 'LF': 'Low Fat', 'reg': 'Regular', 'Low Fat': 'Low Fat', 'Regular': 'Regular'}\n",
    "df.Item_Fat_Content = df.Item_Fat_Content.map(fat)"
   ]
  },
  {
   "cell_type": "markdown",
   "metadata": {},
   "source": [
    "Процент полок, отведенный под продукт, более 30% кажется странным, но допустим, что это маленький продуктовый магазин с ограниченным выбором товаров."
   ]
  },
  {
   "cell_type": "markdown",
   "metadata": {},
   "source": [
    "## Подготовка данных"
   ]
  },
  {
   "cell_type": "markdown",
   "metadata": {},
   "source": [
    "### Устранение пропущенных значений"
   ]
  },
  {
   "cell_type": "markdown",
   "metadata": {},
   "source": [
    "Вернемся к исходному датафрейму и подготовим данные для обучения."
   ]
  },
  {
   "cell_type": "code",
   "execution_count": 5,
   "metadata": {},
   "outputs": [],
   "source": [
    "# заменим пропущенные значения с помощью KNN\n",
    "# 'Item_Weight'\n",
    "imputer = KNNImputer(n_neighbors=3)\n",
    "df_w = imputer.fit_transform(df[['Item_Weight']])\n",
    "df['Item_Weight'] = df_w"
   ]
  },
  {
   "cell_type": "code",
   "execution_count": 6,
   "metadata": {},
   "outputs": [],
   "source": [
    "# 'Outlet_Size'\n",
    "# сначала преобразуем к числовому типу\n",
    "outlet_size_dict = {'Medium':1, 'High':2, 'Small':0}\n",
    "df['Outlet_Size'] = df['Outlet_Size'].map(outlet_size_dict)"
   ]
  },
  {
   "cell_type": "code",
   "execution_count": 7,
   "metadata": {},
   "outputs": [],
   "source": [
    "df_s = imputer.fit_transform(df[['Outlet_Size']])\n",
    "df['Outlet_Size'] = df_s"
   ]
  },
  {
   "cell_type": "markdown",
   "metadata": {},
   "source": [
    "### Обработка категориальных признаков"
   ]
  },
  {
   "cell_type": "code",
   "execution_count": 8,
   "metadata": {},
   "outputs": [
    {
     "data": {
      "text/html": [
       "<div>\n",
       "<style scoped>\n",
       "    .dataframe tbody tr th:only-of-type {\n",
       "        vertical-align: middle;\n",
       "    }\n",
       "\n",
       "    .dataframe tbody tr th {\n",
       "        vertical-align: top;\n",
       "    }\n",
       "\n",
       "    .dataframe thead th {\n",
       "        text-align: right;\n",
       "    }\n",
       "</style>\n",
       "<table border=\"1\" class=\"dataframe\">\n",
       "  <thead>\n",
       "    <tr style=\"text-align: right;\">\n",
       "      <th></th>\n",
       "      <th>Item_Identifier</th>\n",
       "      <th>Item_Fat_Content</th>\n",
       "      <th>Item_Type</th>\n",
       "      <th>Outlet_Identifier</th>\n",
       "      <th>Outlet_Location_Type</th>\n",
       "      <th>Outlet_Type</th>\n",
       "    </tr>\n",
       "  </thead>\n",
       "  <tbody>\n",
       "    <tr>\n",
       "      <th>count</th>\n",
       "      <td>8523</td>\n",
       "      <td>8523</td>\n",
       "      <td>8523</td>\n",
       "      <td>8523</td>\n",
       "      <td>8523</td>\n",
       "      <td>8523</td>\n",
       "    </tr>\n",
       "    <tr>\n",
       "      <th>unique</th>\n",
       "      <td>1559</td>\n",
       "      <td>2</td>\n",
       "      <td>16</td>\n",
       "      <td>10</td>\n",
       "      <td>3</td>\n",
       "      <td>4</td>\n",
       "    </tr>\n",
       "    <tr>\n",
       "      <th>top</th>\n",
       "      <td>FDG33</td>\n",
       "      <td>Low Fat</td>\n",
       "      <td>Fruits and Vegetables</td>\n",
       "      <td>OUT027</td>\n",
       "      <td>Tier 3</td>\n",
       "      <td>Supermarket Type1</td>\n",
       "    </tr>\n",
       "    <tr>\n",
       "      <th>freq</th>\n",
       "      <td>10</td>\n",
       "      <td>5517</td>\n",
       "      <td>1232</td>\n",
       "      <td>935</td>\n",
       "      <td>3350</td>\n",
       "      <td>5577</td>\n",
       "    </tr>\n",
       "  </tbody>\n",
       "</table>\n",
       "</div>"
      ],
      "text/plain": [
       "       Item_Identifier Item_Fat_Content              Item_Type  \\\n",
       "count             8523             8523                   8523   \n",
       "unique            1559                2                     16   \n",
       "top              FDG33          Low Fat  Fruits and Vegetables   \n",
       "freq                10             5517                   1232   \n",
       "\n",
       "       Outlet_Identifier Outlet_Location_Type        Outlet_Type  \n",
       "count               8523                 8523               8523  \n",
       "unique                10                    3                  4  \n",
       "top               OUT027               Tier 3  Supermarket Type1  \n",
       "freq                 935                 3350               5577  "
      ]
     },
     "execution_count": 8,
     "metadata": {},
     "output_type": "execute_result"
    }
   ],
   "source": [
    "# смотрим на разнооообразие в катеригориальных переменных\n",
    "df.describe(include=object)"
   ]
  },
  {
   "cell_type": "markdown",
   "metadata": {},
   "source": [
    "Разнообразие признаков не слишком велико, воспользуемся OneHotEncoding для преобразования к числовому типу."
   ]
  },
  {
   "cell_type": "code",
   "execution_count": 11,
   "metadata": {},
   "outputs": [
    {
     "data": {
      "text/plain": [
       "Index(['Item_Fat_Content', 'Item_Type', 'Outlet_Identifier',\n",
       "       'Outlet_Location_Type', 'Outlet_Type'],\n",
       "      dtype='object')"
      ]
     },
     "execution_count": 11,
     "metadata": {},
     "output_type": "execute_result"
    }
   ],
   "source": [
    "# OneHotEncoding\n",
    "df.describe(include=object).columns"
   ]
  },
  {
   "cell_type": "code",
   "execution_count": 12,
   "metadata": {},
   "outputs": [
    {
     "data": {
      "text/html": [
       "<div>\n",
       "<style scoped>\n",
       "    .dataframe tbody tr th:only-of-type {\n",
       "        vertical-align: middle;\n",
       "    }\n",
       "\n",
       "    .dataframe tbody tr th {\n",
       "        vertical-align: top;\n",
       "    }\n",
       "\n",
       "    .dataframe thead th {\n",
       "        text-align: right;\n",
       "    }\n",
       "</style>\n",
       "<table border=\"1\" class=\"dataframe\">\n",
       "  <thead>\n",
       "    <tr style=\"text-align: right;\">\n",
       "      <th></th>\n",
       "      <th>Item_Identifier</th>\n",
       "      <th>Item_Weight</th>\n",
       "      <th>Item_Visibility</th>\n",
       "      <th>Item_MRP</th>\n",
       "      <th>Outlet_Establishment_Year</th>\n",
       "      <th>Outlet_Size</th>\n",
       "      <th>Item_Outlet_Sales</th>\n",
       "      <th>Item_Fat_Content_Low Fat</th>\n",
       "      <th>Item_Fat_Content_Regular</th>\n",
       "      <th>Item_Type_Baking Goods</th>\n",
       "      <th>...</th>\n",
       "      <th>Outlet_Identifier_OUT045</th>\n",
       "      <th>Outlet_Identifier_OUT046</th>\n",
       "      <th>Outlet_Identifier_OUT049</th>\n",
       "      <th>Outlet_Location_Type_Tier 1</th>\n",
       "      <th>Outlet_Location_Type_Tier 2</th>\n",
       "      <th>Outlet_Location_Type_Tier 3</th>\n",
       "      <th>Outlet_Type_Grocery Store</th>\n",
       "      <th>Outlet_Type_Supermarket Type1</th>\n",
       "      <th>Outlet_Type_Supermarket Type2</th>\n",
       "      <th>Outlet_Type_Supermarket Type3</th>\n",
       "    </tr>\n",
       "  </thead>\n",
       "  <tbody>\n",
       "    <tr>\n",
       "      <th>0</th>\n",
       "      <td>156</td>\n",
       "      <td>9.30</td>\n",
       "      <td>0.016047</td>\n",
       "      <td>249.8092</td>\n",
       "      <td>1999</td>\n",
       "      <td>1.0</td>\n",
       "      <td>3735.1380</td>\n",
       "      <td>1</td>\n",
       "      <td>0</td>\n",
       "      <td>0</td>\n",
       "      <td>...</td>\n",
       "      <td>0</td>\n",
       "      <td>0</td>\n",
       "      <td>1</td>\n",
       "      <td>1</td>\n",
       "      <td>0</td>\n",
       "      <td>0</td>\n",
       "      <td>0</td>\n",
       "      <td>1</td>\n",
       "      <td>0</td>\n",
       "      <td>0</td>\n",
       "    </tr>\n",
       "    <tr>\n",
       "      <th>1</th>\n",
       "      <td>8</td>\n",
       "      <td>5.92</td>\n",
       "      <td>0.019278</td>\n",
       "      <td>48.2692</td>\n",
       "      <td>2009</td>\n",
       "      <td>1.0</td>\n",
       "      <td>443.4228</td>\n",
       "      <td>0</td>\n",
       "      <td>1</td>\n",
       "      <td>0</td>\n",
       "      <td>...</td>\n",
       "      <td>0</td>\n",
       "      <td>0</td>\n",
       "      <td>0</td>\n",
       "      <td>0</td>\n",
       "      <td>0</td>\n",
       "      <td>1</td>\n",
       "      <td>0</td>\n",
       "      <td>0</td>\n",
       "      <td>1</td>\n",
       "      <td>0</td>\n",
       "    </tr>\n",
       "  </tbody>\n",
       "</table>\n",
       "<p>2 rows × 42 columns</p>\n",
       "</div>"
      ],
      "text/plain": [
       "   Item_Identifier  Item_Weight  Item_Visibility  Item_MRP  \\\n",
       "0              156         9.30         0.016047  249.8092   \n",
       "1                8         5.92         0.019278   48.2692   \n",
       "\n",
       "   Outlet_Establishment_Year  Outlet_Size  Item_Outlet_Sales  \\\n",
       "0                       1999          1.0          3735.1380   \n",
       "1                       2009          1.0           443.4228   \n",
       "\n",
       "   Item_Fat_Content_Low Fat  Item_Fat_Content_Regular  Item_Type_Baking Goods  \\\n",
       "0                         1                         0                       0   \n",
       "1                         0                         1                       0   \n",
       "\n",
       "   ...  Outlet_Identifier_OUT045  Outlet_Identifier_OUT046  \\\n",
       "0  ...                         0                         0   \n",
       "1  ...                         0                         0   \n",
       "\n",
       "   Outlet_Identifier_OUT049  Outlet_Location_Type_Tier 1  \\\n",
       "0                         1                            1   \n",
       "1                         0                            0   \n",
       "\n",
       "   Outlet_Location_Type_Tier 2  Outlet_Location_Type_Tier 3  \\\n",
       "0                            0                            0   \n",
       "1                            0                            1   \n",
       "\n",
       "   Outlet_Type_Grocery Store  Outlet_Type_Supermarket Type1  \\\n",
       "0                          0                              1   \n",
       "1                          0                              0   \n",
       "\n",
       "   Outlet_Type_Supermarket Type2  Outlet_Type_Supermarket Type3  \n",
       "0                              0                              0  \n",
       "1                              1                              0  \n",
       "\n",
       "[2 rows x 42 columns]"
      ]
     },
     "execution_count": 12,
     "metadata": {},
     "output_type": "execute_result"
    }
   ],
   "source": [
    "df_dumm = pd.get_dummies(df, columns=['Item_Fat_Content', 'Item_Type', 'Outlet_Identifier',\n",
    "       'Outlet_Location_Type', 'Outlet_Type'])\n",
    "df_dumm.head(2)"
   ]
  },
  {
   "cell_type": "markdown",
   "metadata": {},
   "source": [
    "## Моделирование"
   ]
  },
  {
   "cell_type": "markdown",
   "metadata": {},
   "source": [
    "### Выбор и обоснование метрики для оценки качества модели"
   ]
  },
  {
   "cell_type": "markdown",
   "metadata": {},
   "source": [
    "Т.к. мы работаем с задачей регрессии, то для оценки качества модели выберем абсолютную ошибку (MАE), сумма разницы истинного и предсказанного значений по модулю. Она всегда положительна и в отличие от среднеквадратичной ошибки отсутсвует штраф за величину отдельной ошибки. Соответственно, чем меньше ошибка, тем лучше модель."
   ]
  },
  {
   "cell_type": "markdown",
   "metadata": {},
   "source": [
    "### Разделение данных на тренировочные и тестовые и стандартизация"
   ]
  },
  {
   "cell_type": "code",
   "execution_count": 13,
   "metadata": {},
   "outputs": [
    {
     "data": {
      "text/plain": [
       "Index(['Item_Identifier', 'Item_Weight', 'Item_Visibility', 'Item_MRP',\n",
       "       'Outlet_Establishment_Year', 'Outlet_Size', 'Item_Outlet_Sales',\n",
       "       'Item_Fat_Content_Low Fat', 'Item_Fat_Content_Regular',\n",
       "       'Item_Type_Baking Goods', 'Item_Type_Breads', 'Item_Type_Breakfast',\n",
       "       'Item_Type_Canned', 'Item_Type_Dairy', 'Item_Type_Frozen Foods',\n",
       "       'Item_Type_Fruits and Vegetables', 'Item_Type_Hard Drinks',\n",
       "       'Item_Type_Health and Hygiene', 'Item_Type_Household', 'Item_Type_Meat',\n",
       "       'Item_Type_Others', 'Item_Type_Seafood', 'Item_Type_Snack Foods',\n",
       "       'Item_Type_Soft Drinks', 'Item_Type_Starchy Foods',\n",
       "       'Outlet_Identifier_OUT010', 'Outlet_Identifier_OUT013',\n",
       "       'Outlet_Identifier_OUT017', 'Outlet_Identifier_OUT018',\n",
       "       'Outlet_Identifier_OUT019', 'Outlet_Identifier_OUT027',\n",
       "       'Outlet_Identifier_OUT035', 'Outlet_Identifier_OUT045',\n",
       "       'Outlet_Identifier_OUT046', 'Outlet_Identifier_OUT049',\n",
       "       'Outlet_Location_Type_Tier 1', 'Outlet_Location_Type_Tier 2',\n",
       "       'Outlet_Location_Type_Tier 3', 'Outlet_Type_Grocery Store',\n",
       "       'Outlet_Type_Supermarket Type1', 'Outlet_Type_Supermarket Type2',\n",
       "       'Outlet_Type_Supermarket Type3'],\n",
       "      dtype='object')"
      ]
     },
     "execution_count": 13,
     "metadata": {},
     "output_type": "execute_result"
    }
   ],
   "source": [
    "df_dumm.columns"
   ]
  },
  {
   "cell_type": "code",
   "execution_count": 14,
   "metadata": {},
   "outputs": [],
   "source": [
    "# формируем признаки и целевую переменную\n",
    "X = df_dumm[['Item_Weight', 'Item_Visibility', 'Item_MRP',\n",
    "       'Outlet_Establishment_Year', 'Outlet_Size',\n",
    "       'Item_Fat_Content_Low Fat', 'Item_Fat_Content_Regular',\n",
    "       'Item_Type_Baking Goods', 'Item_Type_Breads', 'Item_Type_Breakfast',\n",
    "       'Item_Type_Canned', 'Item_Type_Dairy', 'Item_Type_Frozen Foods',\n",
    "       'Item_Type_Fruits and Vegetables', 'Item_Type_Hard Drinks',\n",
    "       'Item_Type_Health and Hygiene', 'Item_Type_Household', 'Item_Type_Meat',\n",
    "       'Item_Type_Others', 'Item_Type_Seafood', 'Item_Type_Snack Foods',\n",
    "       'Item_Type_Soft Drinks', 'Item_Type_Starchy Foods',\n",
    "       'Outlet_Identifier_OUT010', 'Outlet_Identifier_OUT013',\n",
    "       'Outlet_Identifier_OUT017', 'Outlet_Identifier_OUT018',\n",
    "       'Outlet_Identifier_OUT019', 'Outlet_Identifier_OUT027',\n",
    "       'Outlet_Identifier_OUT035', 'Outlet_Identifier_OUT045',\n",
    "       'Outlet_Identifier_OUT046', 'Outlet_Identifier_OUT049',\n",
    "       'Outlet_Location_Type_Tier 1', 'Outlet_Location_Type_Tier 2',\n",
    "       'Outlet_Location_Type_Tier 3', 'Outlet_Type_Grocery Store',\n",
    "       'Outlet_Type_Supermarket Type1', 'Outlet_Type_Supermarket Type2',\n",
    "       'Outlet_Type_Supermarket Type3']]\n",
    "y = df_dumm.Item_Outlet_Sales"
   ]
  },
  {
   "cell_type": "code",
   "execution_count": 15,
   "metadata": {},
   "outputs": [],
   "source": [
    "# разделяем на тренировочные и тестовые\n",
    "X_train, X_test, y_train, y_test = train_test_split(X, y, test_size=0.2)"
   ]
  },
  {
   "cell_type": "code",
   "execution_count": 16,
   "metadata": {},
   "outputs": [],
   "source": [
    "# стандартизируем\n",
    "sc = StandardScaler()\n",
    "X_train = sc.fit_transform(X_train)\n",
    "X_test = sc.transform(X_test)"
   ]
  },
  {
   "cell_type": "markdown",
   "metadata": {},
   "source": [
    "### Обучим модель линейной регрессии"
   ]
  },
  {
   "cell_type": "markdown",
   "metadata": {},
   "source": [
    "За базовый метод возьмем линейную регрессию"
   ]
  },
  {
   "cell_type": "code",
   "execution_count": 28,
   "metadata": {},
   "outputs": [],
   "source": [
    "from sklearn.linear_model import LinearRegression"
   ]
  },
  {
   "cell_type": "code",
   "execution_count": 30,
   "metadata": {},
   "outputs": [
    {
     "data": {
      "text/plain": [
       "LinearRegression(copy_X=True, fit_intercept=True, n_jobs=None, normalize=False)"
      ]
     },
     "execution_count": 30,
     "metadata": {},
     "output_type": "execute_result"
    }
   ],
   "source": [
    "lr = LinearRegression()\n",
    "lr.fit(X_train, y_train)"
   ]
  },
  {
   "cell_type": "code",
   "execution_count": 34,
   "metadata": {},
   "outputs": [
    {
     "data": {
      "text/plain": [
       "841.5255781982044"
      ]
     },
     "execution_count": 34,
     "metadata": {},
     "output_type": "execute_result"
    }
   ],
   "source": [
    "# оценим модель\n",
    "from sklearn.metrics import mean_absolute_error\n",
    "mean_absolute_error(y_test, lr.predict(X_test))"
   ]
  },
  {
   "cell_type": "code",
   "execution_count": 35,
   "metadata": {},
   "outputs": [
    {
     "data": {
      "text/plain": [
       "GridSearchCV(cv=5, error_score=nan,\n",
       "             estimator=LinearRegression(copy_X=True, fit_intercept=True,\n",
       "                                        n_jobs=None, normalize=False),\n",
       "             iid='deprecated', n_jobs=-1,\n",
       "             param_grid={'normalize': ['True', 'False']},\n",
       "             pre_dispatch='2*n_jobs', refit=True, return_train_score=False,\n",
       "             scoring='neg_mean_absolute_error', verbose=0)"
      ]
     },
     "execution_count": 35,
     "metadata": {},
     "output_type": "execute_result"
    }
   ],
   "source": [
    "# подберем параметры\n",
    "from sklearn.model_selection import GridSearchCV\n",
    "param = {'normalize':['True', 'False']}\n",
    "gs = GridSearchCV(LinearRegression(), param_grid = param, cv = 5, scoring = 'neg_mean_absolute_error', n_jobs=-1)\n",
    "gs.fit(X_train, y_train)"
   ]
  },
  {
   "cell_type": "code",
   "execution_count": 36,
   "metadata": {},
   "outputs": [
    {
     "data": {
      "text/plain": [
       "LinearRegression(copy_X=True, fit_intercept=True, n_jobs=None, normalize='True')"
      ]
     },
     "execution_count": 36,
     "metadata": {},
     "output_type": "execute_result"
    }
   ],
   "source": [
    "gs.best_estimator_"
   ]
  },
  {
   "cell_type": "code",
   "execution_count": 38,
   "metadata": {},
   "outputs": [
    {
     "data": {
      "text/plain": [
       "LinearRegression(copy_X=True, fit_intercept=True, n_jobs=None, normalize=True)"
      ]
     },
     "execution_count": 38,
     "metadata": {},
     "output_type": "execute_result"
    }
   ],
   "source": [
    "lreg = LinearRegression(normalize=True)\n",
    "lreg.fit(X_train, y_train)"
   ]
  },
  {
   "cell_type": "code",
   "execution_count": 39,
   "metadata": {},
   "outputs": [
    {
     "data": {
      "text/plain": [
       "840.1026034736258"
      ]
     },
     "execution_count": 39,
     "metadata": {},
     "output_type": "execute_result"
    }
   ],
   "source": [
    "mean_absolute_error(y_test, lreg.predict(X_test))"
   ]
  },
  {
   "cell_type": "markdown",
   "metadata": {},
   "source": [
    "Подбор параметров не дал улучшения результата"
   ]
  },
  {
   "cell_type": "markdown",
   "metadata": {},
   "source": [
    "### Обучим модель Ridge регрессии"
   ]
  },
  {
   "cell_type": "markdown",
   "metadata": {},
   "source": [
    "Обучим Ridge регрессию, штрафуюшую за большие коэффициенты и сравним с обычной регрессией."
   ]
  },
  {
   "cell_type": "code",
   "execution_count": 42,
   "metadata": {},
   "outputs": [
    {
     "data": {
      "text/plain": [
       "Ridge(alpha=1.0, copy_X=True, fit_intercept=True, max_iter=None,\n",
       "      normalize=False, random_state=None, solver='auto', tol=0.001)"
      ]
     },
     "execution_count": 42,
     "metadata": {},
     "output_type": "execute_result"
    }
   ],
   "source": [
    "from sklearn.linear_model import Ridge\n",
    "regr = Ridge()\n",
    "regr.fit(X_train, y_train)"
   ]
  },
  {
   "cell_type": "code",
   "execution_count": 18,
   "metadata": {},
   "outputs": [
    {
     "data": {
      "text/plain": [
       "840.6613498987176"
      ]
     },
     "execution_count": 18,
     "metadata": {},
     "output_type": "execute_result"
    }
   ],
   "source": [
    "# оценим модель\n",
    "from sklearn.metrics import mean_absolute_error\n",
    "mean_absolute_error(y_test, regr.predict(X_test))"
   ]
  },
  {
   "cell_type": "code",
   "execution_count": 32,
   "metadata": {},
   "outputs": [
    {
     "data": {
      "text/plain": [
       "GridSearchCV(cv=5, error_score=nan,\n",
       "             estimator=Ridge(alpha=1.0, copy_X=True, fit_intercept=True,\n",
       "                             max_iter=None, normalize=False, random_state=None,\n",
       "                             solver='auto', tol=0.001),\n",
       "             iid='deprecated', n_jobs=-1,\n",
       "             param_grid={'alpha': [0.001, 0.01, 0.1, 1, 10],\n",
       "                         'solver': ['auto', 'svd', 'cholesky', 'lsqr',\n",
       "                                    'sparse_cg', 'sag', 'saga']},\n",
       "             pre_dispatch='2*n_jobs', refit=True, return_train_score=False,\n",
       "             scoring='neg_mean_absolute_error', verbose=0)"
      ]
     },
     "execution_count": 32,
     "metadata": {},
     "output_type": "execute_result"
    }
   ],
   "source": [
    "# подберем параметры\n",
    "from sklearn.model_selection import GridSearchCV\n",
    "param = {'alpha': [1e-3, 1e-2, 1e-1, 1, 10], 'solver': ['auto', 'svd', 'cholesky', 'lsqr', 'sparse_cg', 'sag', 'saga']}\n",
    "gs = GridSearchCV(Ridge(), param_grid = param, cv = 5, scoring = 'neg_mean_absolute_error', n_jobs=-1)\n",
    "gs.fit(X_train, y_train)"
   ]
  },
  {
   "cell_type": "code",
   "execution_count": 23,
   "metadata": {},
   "outputs": [
    {
     "data": {
      "text/plain": [
       "Ridge(alpha=10, copy_X=True, fit_intercept=True, max_iter=None, normalize=False,\n",
       "      random_state=None, solver='sag', tol=0.001)"
      ]
     },
     "execution_count": 23,
     "metadata": {},
     "output_type": "execute_result"
    }
   ],
   "source": [
    "gs.best_estimator_"
   ]
  },
  {
   "cell_type": "code",
   "execution_count": 33,
   "metadata": {},
   "outputs": [
    {
     "data": {
      "text/plain": [
       "Ridge(alpha=10, copy_X=True, fit_intercept=True, max_iter=None, normalize=False,\n",
       "      random_state=None, solver='sag', tol=0.001)"
      ]
     },
     "execution_count": 33,
     "metadata": {},
     "output_type": "execute_result"
    }
   ],
   "source": [
    "reg = Ridge(alpha=10, solver='sag')\n",
    "reg.fit(X_train, y_train)"
   ]
  },
  {
   "cell_type": "code",
   "execution_count": 27,
   "metadata": {},
   "outputs": [
    {
     "data": {
      "text/plain": [
       "840.6173800473975"
      ]
     },
     "execution_count": 27,
     "metadata": {},
     "output_type": "execute_result"
    }
   ],
   "source": [
    "mean_absolute_error(y_test, reg.predict(X_test))"
   ]
  },
  {
   "cell_type": "markdown",
   "metadata": {},
   "source": [
    "Ridge регрессия не улучшила результат."
   ]
  },
  {
   "cell_type": "markdown",
   "metadata": {},
   "source": [
    "### Обучим \"случайный лес\""
   ]
  },
  {
   "cell_type": "markdown",
   "metadata": {},
   "source": [
    "Среди нелинейных моделей попробуем случайный лес, один из лучших ансамблевых алгоритмов."
   ]
  },
  {
   "cell_type": "code",
   "execution_count": 41,
   "metadata": {},
   "outputs": [
    {
     "data": {
      "text/plain": [
       "RandomForestRegressor(bootstrap=True, ccp_alpha=0.0, criterion='mse',\n",
       "                      max_depth=None, max_features='auto', max_leaf_nodes=None,\n",
       "                      max_samples=None, min_impurity_decrease=0.0,\n",
       "                      min_impurity_split=None, min_samples_leaf=1,\n",
       "                      min_samples_split=2, min_weight_fraction_leaf=0.0,\n",
       "                      n_estimators=100, n_jobs=None, oob_score=False,\n",
       "                      random_state=None, verbose=0, warm_start=False)"
      ]
     },
     "execution_count": 41,
     "metadata": {},
     "output_type": "execute_result"
    }
   ],
   "source": [
    "from sklearn.ensemble import RandomForestRegressor\n",
    "clf = RandomForestRegressor()\n",
    "clf.fit(X_train, y_train)"
   ]
  },
  {
   "cell_type": "code",
   "execution_count": 43,
   "metadata": {},
   "outputs": [
    {
     "data": {
      "text/plain": [
       "788.7993335870967"
      ]
     },
     "execution_count": 43,
     "metadata": {},
     "output_type": "execute_result"
    }
   ],
   "source": [
    "# оценим модель\n",
    "from sklearn.metrics import mean_absolute_error\n",
    "mean_absolute_error(y_test, clf.predict(X_test))"
   ]
  },
  {
   "cell_type": "markdown",
   "metadata": {},
   "source": [
    "По сравнению с линейной моделью результат лучше."
   ]
  },
  {
   "cell_type": "code",
   "execution_count": 46,
   "metadata": {},
   "outputs": [
    {
     "data": {
      "text/plain": [
       "RandomizedSearchCV(cv=5, error_score=nan,\n",
       "                   estimator=RandomForestRegressor(bootstrap=True,\n",
       "                                                   ccp_alpha=0.0,\n",
       "                                                   criterion='mse',\n",
       "                                                   max_depth=None,\n",
       "                                                   max_features='auto',\n",
       "                                                   max_leaf_nodes=None,\n",
       "                                                   max_samples=None,\n",
       "                                                   min_impurity_decrease=0.0,\n",
       "                                                   min_impurity_split=None,\n",
       "                                                   min_samples_leaf=1,\n",
       "                                                   min_samples_split=2,\n",
       "                                                   min_weight_fraction_leaf=0.0,\n",
       "                                                   n_estimators=100,\n",
       "                                                   n_jobs=None, oob_score=Fals...\n",
       "                                                      10, 11, 12, 13, 14, 15],\n",
       "                                        'max_leaf_nodes': [2, 3, 4, 5, 6, 7, 8,\n",
       "                                                           9, 10, 11, 12, 13,\n",
       "                                                           14, 15, 16, 17, 18,\n",
       "                                                           19, 20, 21, 22, 23,\n",
       "                                                           24, 25, 26, 27, 28,\n",
       "                                                           29, 30, 31, ...],\n",
       "                                        'n_estimators': [2, 3, 4, 5, 6, 7, 8, 9,\n",
       "                                                         10, 11, 12, 13, 14, 15,\n",
       "                                                         16, 17, 18, 19, 20, 21,\n",
       "                                                         22, 23, 24, 25, 26, 27,\n",
       "                                                         28, 29, 30, 31, ...]},\n",
       "                   pre_dispatch='2*n_jobs', random_state=None, refit=True,\n",
       "                   return_train_score=False, scoring='neg_mean_absolute_error',\n",
       "                   verbose=0)"
      ]
     },
     "execution_count": 46,
     "metadata": {},
     "output_type": "execute_result"
    }
   ],
   "source": [
    "# подберем параметры\n",
    "from sklearn.model_selection import RandomizedSearchCV\n",
    "param = {'n_estimators': list(range(2, 101)), 'max_depth': list(range(2, 16)), 'max_leaf_nodes': list(range(2, 51))}\n",
    "gs = RandomizedSearchCV(RandomForestRegressor(), param_distributions = param, cv = 5, scoring = 'neg_mean_absolute_error', n_jobs=-1)\n",
    "gs.fit(X_train, y_train)"
   ]
  },
  {
   "cell_type": "code",
   "execution_count": 47,
   "metadata": {},
   "outputs": [
    {
     "data": {
      "text/plain": [
       "RandomForestRegressor(bootstrap=True, ccp_alpha=0.0, criterion='mse',\n",
       "                      max_depth=9, max_features='auto', max_leaf_nodes=28,\n",
       "                      max_samples=None, min_impurity_decrease=0.0,\n",
       "                      min_impurity_split=None, min_samples_leaf=1,\n",
       "                      min_samples_split=2, min_weight_fraction_leaf=0.0,\n",
       "                      n_estimators=31, n_jobs=None, oob_score=False,\n",
       "                      random_state=None, verbose=0, warm_start=False)"
      ]
     },
     "execution_count": 47,
     "metadata": {},
     "output_type": "execute_result"
    }
   ],
   "source": [
    "gs.best_estimator_"
   ]
  },
  {
   "cell_type": "code",
   "execution_count": 48,
   "metadata": {},
   "outputs": [
    {
     "data": {
      "text/plain": [
       "RandomForestRegressor(bootstrap=True, ccp_alpha=0.0, criterion='mse',\n",
       "                      max_depth=9, max_features='auto', max_leaf_nodes=28,\n",
       "                      max_samples=None, min_impurity_decrease=0.0,\n",
       "                      min_impurity_split=None, min_samples_leaf=1,\n",
       "                      min_samples_split=2, min_weight_fraction_leaf=0.0,\n",
       "                      n_estimators=31, n_jobs=None, oob_score=False,\n",
       "                      random_state=None, verbose=0, warm_start=False)"
      ]
     },
     "execution_count": 48,
     "metadata": {},
     "output_type": "execute_result"
    }
   ],
   "source": [
    "clf_cv = RandomForestRegressor(max_depth=9, max_leaf_nodes=28, n_estimators=31)\n",
    "clf_cv.fit(X_train, y_train)"
   ]
  },
  {
   "cell_type": "code",
   "execution_count": 49,
   "metadata": {},
   "outputs": [
    {
     "data": {
      "text/plain": [
       "758.8502778560729"
      ]
     },
     "execution_count": 49,
     "metadata": {},
     "output_type": "execute_result"
    }
   ],
   "source": [
    "# оценим модель\n",
    "from sklearn.metrics import mean_absolute_error\n",
    "mean_absolute_error(y_test, clf_cv.predict(X_test))"
   ]
  },
  {
   "cell_type": "markdown",
   "metadata": {},
   "source": [
    "Подбор параметров позволил улучшить результат модели, данная модель является наилучшей из рассмотренных."
   ]
  },
  {
   "cell_type": "markdown",
   "metadata": {},
   "source": [
    "### Определим признаки, наиболее влияющие на объемы продаж"
   ]
  },
  {
   "cell_type": "code",
   "execution_count": 50,
   "metadata": {},
   "outputs": [
    {
     "data": {
      "image/png": "[encoded data removed]",
      "text/plain": [
       "<Figure size 432x432 with 1 Axes>"
      ]
     },
     "metadata": {
      "needs_background": "light"
     },
     "output_type": "display_data"
    }
   ],
   "source": [
    "feature_imp = pd.Series(clf_cv.feature_importances_,index=list(X.columns)).sort_values(ascending=False)\n",
    "\n",
    "f, ax = plt.subplots(figsize=(6, 6))\n",
    "sns.barplot(x=feature_imp, y=feature_imp.index)\n",
    "\n",
    "plt.xlabel('Важность атрибутов')\n",
    "plt.ylabel('Атрибуты')\n",
    "plt.title('Наиболее важные атрибуты')\n",
    "plt.show()"
   ]
  },
  {
   "cell_type": "markdown",
   "metadata": {},
   "source": [
    "На продажи наибольшее влияние оказывают: максимальная цена продукта и то, относится ли магазин к одному из двух типов - Grocery Store or Supermarket Type 3. Данные признаки по таблице корреляции также имели наибольшие коэффициенты по взаимосвязи с целевой переменной."
   ]
  },
  {
   "cell_type": "markdown",
   "metadata": {},
   "source": [
    "### Проведем стекинг нескольких моделей"
   ]
  },
  {
   "cell_type": "code",
   "execution_count": 54,
   "metadata": {},
   "outputs": [
    {
     "data": {
      "text/plain": [
       "StackingRegressor(cv=None,\n",
       "                  estimators=[('r',\n",
       "                               Ridge(alpha=1.0, copy_X=True, fit_intercept=True,\n",
       "                                     max_iter=None, normalize=False,\n",
       "                                     random_state=None, solver='auto',\n",
       "                                     tol=0.001)),\n",
       "                              ('lr',\n",
       "                               LinearRegression(copy_X=True, fit_intercept=True,\n",
       "                                                n_jobs=None,\n",
       "                                                normalize=False))],\n",
       "                  final_estimator=RandomForestRegressor(bootstrap=True,\n",
       "                                                        ccp_alpha=0.0,\n",
       "                                                        criterion='mse',\n",
       "                                                        max_depth=9,\n",
       "                                                        max_features='auto',\n",
       "                                                        max_leaf_nodes=28,\n",
       "                                                        max_samples=None,\n",
       "                                                        min_impurity_decrease=0.0,\n",
       "                                                        min_impurity_split=None,\n",
       "                                                        min_samples_leaf=1,\n",
       "                                                        min_samples_split=2,\n",
       "                                                        min_weight_fraction_leaf=0.0,\n",
       "                                                        n_estimators=31,\n",
       "                                                        n_jobs=None,\n",
       "                                                        oob_score=False,\n",
       "                                                        random_state=None,\n",
       "                                                        verbose=0,\n",
       "                                                        warm_start=False),\n",
       "                  n_jobs=None, passthrough=False, verbose=0)"
      ]
     },
     "execution_count": 54,
     "metadata": {},
     "output_type": "execute_result"
    }
   ],
   "source": [
    "from sklearn.ensemble import StackingRegressor\n",
    "estimators = [('r', Ridge()), ('lr', LinearRegression())]\n",
    "reg_st = StackingRegressor(estimators=estimators, final_estimator=RandomForestRegressor(max_depth=9, max_leaf_nodes=28, n_estimators=31))\n",
    "reg_st.fit(X_train, y_train)"
   ]
  },
  {
   "cell_type": "code",
   "execution_count": 55,
   "metadata": {},
   "outputs": [
    {
     "data": {
      "text/plain": [
       "796.4301385423311"
      ]
     },
     "execution_count": 55,
     "metadata": {},
     "output_type": "execute_result"
    }
   ],
   "source": [
    "# оценим модель\n",
    "from sklearn.metrics import mean_absolute_error\n",
    "mean_absolute_error(y_test, reg_st.predict(X_test))"
   ]
  },
  {
   "cell_type": "markdown",
   "metadata": {},
   "source": [
    "Ошибка модели стекинга выше, чем у просто \"случайного леса\"."
   ]
  },
  {
   "cell_type": "markdown",
   "metadata": {},
   "source": [
    "## Вывод"
   ]
  },
  {
   "cell_type": "markdown",
   "metadata": {},
   "source": [
    "Выполнен предварительный анализ признаков, их влияния на целевую перемнную. Проведена предобработка данных и обучение моделей: линейной и нелинейной. Выполнена оценка качества моделей в соответствии с заранее определенным критерием. Наилучший результат дала модель, обученная с помощью алгоритма \"Случайный лес\"."
   ]
  },
  {
   "cell_type": "code",
   "execution_count": null,
   "metadata": {},
   "outputs": [],
   "source": []
  }
 ],
 "metadata": {
  "kernelspec": {
   "display_name": "Python 3",
   "language": "python",
   "name": "python3"
  },
  "language_info": {
   "codemirror_mode": {
    "name": "ipython",
    "version": 3
   },
   "file_extension": ".py",
   "mimetype": "text/x-python",
   "name": "python",
   "nbconvert_exporter": "python",
   "pygments_lexer": "ipython3",
   "version": "3.7.3"
  }
 },
 "nbformat": 4,
 "nbformat_minor": 2
}
